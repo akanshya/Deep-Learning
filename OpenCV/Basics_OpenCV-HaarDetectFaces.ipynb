{
 "cells": [
  {
   "cell_type": "code",
   "execution_count": 1,
   "metadata": {},
   "outputs": [],
   "source": [
    "import cv2"
   ]
  },
  {
   "cell_type": "code",
   "execution_count": 2,
   "metadata": {},
   "outputs": [],
   "source": [
    "face_cascade=cv2.CascadeClassifier('haarcascade_frontalface_default.xml')\n",
    "eye_cascade=cv2.CascadeClassifier('haarcascade_eye.xml')"
   ]
  },
  {
   "cell_type": "code",
   "execution_count": 3,
   "metadata": {},
   "outputs": [],
   "source": [
    "def detect(gray,frame):\n",
    "    faces=face_cascade.detectMultiScale(gray,1.3,5)\n",
    "    for (x,y,w,h) in faces:\n",
    "        print(faces.shape)\n",
    "        print(\"No. of faces detected: \"+str(faces.shape[0]))\n",
    "        cv2.putText(frame,\"No. of faces detected: \"+str(faces.shape[0]),(10,30),\n",
    "                    cv2.FONT_HERSHEY_SIMPLEX,0.3,(0,0,255),1)\n",
    "        cv2.rectangle(frame,(x,y),(x+w,y+h),(255,0,0),2)\n",
    "        roi_color=frame[y:y+h,x:x+w]\n",
    "    return frame"
   ]
  },
  {
   "cell_type": "code",
   "execution_count": 4,
   "metadata": {},
   "outputs": [
    {
     "name": "stdout",
     "output_type": "stream",
     "text": [
      "(6, 4)\n",
      "No. of faces detected: 6\n",
      "(6, 4)\n",
      "No. of faces detected: 6\n",
      "(6, 4)\n",
      "No. of faces detected: 6\n",
      "(6, 4)\n",
      "No. of faces detected: 6\n",
      "(6, 4)\n",
      "No. of faces detected: 6\n",
      "(6, 4)\n",
      "No. of faces detected: 6\n"
     ]
    }
   ],
   "source": [
    "#Detect faces from a image\n",
    "img=cv2.imread(\"1771161.jpg\")\n",
    "gray=cv2.cvtColor(img,cv2.COLOR_BGR2GRAY)\n",
    "canvas=detect(gray,img)\n",
    "cv2.imshow('Hi',canvas)\n",
    "cv2.waitKey()\n",
    "cv2.destroyAllWindows()\n"
   ]
  },
  {
   "cell_type": "code",
   "execution_count": null,
   "metadata": {},
   "outputs": [],
   "source": [
    "#Detect faces from video\n",
    "video_capture=cv2.VideoCapture(0)\n",
    "while True:\n",
    "    data,frame=video_capture.read()\n",
    "    gray=cv2.cvtColor(frame,cv2.COLOR_BGR2GRAY)\n",
    "    canvas=detect(gray,frame)\n",
    "    cv2.imshow('Video',canvas)\n",
    "    if cv2.waitKey(1) & 0xFF == ord('q'):\n",
    "        break\n",
    "video_capture.release()\n",
    "cv2.destroyAllWindows()"
   ]
  }
 ],
 "metadata": {
  "kernelspec": {
   "display_name": "Python 3",
   "language": "python",
   "name": "python3"
  },
  "language_info": {
   "codemirror_mode": {
    "name": "ipython",
    "version": 3
   },
   "file_extension": ".py",
   "mimetype": "text/x-python",
   "name": "python",
   "nbconvert_exporter": "python",
   "pygments_lexer": "ipython3",
   "version": "3.8.3"
  }
 },
 "nbformat": 4,
 "nbformat_minor": 4
}
